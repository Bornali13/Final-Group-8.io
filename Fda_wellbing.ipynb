{
  "nbformat": 4,
  "nbformat_minor": 0,
  "metadata": {
    "colab": {
      "provenance": [],
      "include_colab_link": true
    },
    "kernelspec": {
      "name": "python3",
      "display_name": "Python 3"
    },
    "language_info": {
      "name": "python"
    }
  },
  "cells": [
    {
      "cell_type": "markdown",
      "metadata": {
        "id": "view-in-github",
        "colab_type": "text"
      },
      "source": [
        "<a href=\"https://colab.research.google.com/github/Bornali13/Final-Group-8.io/blob/main/Fda_wellbing.ipynb\" target=\"_parent\"><img src=\"https://colab.research.google.com/assets/colab-badge.svg\" alt=\"Open In Colab\"/></a>"
      ]
    },
    {
      "cell_type": "markdown",
      "source": [
        "***Data Processing ***"
      ],
      "metadata": {
        "id": "-Cu914evFr01"
      }
    },
    {
      "cell_type": "code",
      "source": [
        "from google.colab import drive\n",
        "drive.mount('/content/drive')"
      ],
      "metadata": {
        "colab": {
          "base_uri": "https://localhost:8080/"
        },
        "id": "s2RGeawTGkgf",
        "outputId": "0bf2f38a-5e96-4cf6-c1e6-0d0c3509e585"
      },
      "execution_count": 1,
      "outputs": [
        {
          "output_type": "stream",
          "name": "stdout",
          "text": [
            "Mounted at /content/drive\n"
          ]
        }
      ]
    },
    {
      "cell_type": "code",
      "execution_count": 5,
      "metadata": {
        "colab": {
          "base_uri": "https://localhost:8080/"
        },
        "id": "INXprfETt3ne",
        "outputId": "2cea08f5-ced4-44fc-f561-1842f6ee0818"
      },
      "outputs": [
        {
          "output_type": "stream",
          "name": "stdout",
          "text": [
            "        ID  gender  minority  deprived  C_we  C_wk  G_we  G_wk  S_we  S_wk  \\\n",
            "0  1087192       0         0         0   2.0   0.5   0.5   0.5   1.0   0.5   \n",
            "1  1087195       0         0         0   2.0   1.0   0.0   0.0   3.0   1.0   \n",
            "2  1087205       0         0         0   1.0   0.5   0.0   0.0   0.5   0.5   \n",
            "3  1087214       0         0         0   2.0   1.0   0.5   0.0   2.0   1.0   \n",
            "4  1087222       0         0         0   1.0   3.0   0.0   0.0   2.0   1.0   \n",
            "\n",
            "   ...  Engs  Dealpr  Thcklr  Goodme  Clsep  Conf  Mkmind  Loved  Intthg  \\\n",
            "0  ...     4       4       4       4      5     4       4      5       4   \n",
            "1  ...     3       4       5       3      5     4       4      5       4   \n",
            "2  ...     3       3       3       3      4     3       3      3       4   \n",
            "3  ...     4       4       4       4      3     5       4      5       4   \n",
            "4  ...     2       3       3       4      4     3       5      5       5   \n",
            "\n",
            "   Cheer  \n",
            "0      4  \n",
            "1      4  \n",
            "2      4  \n",
            "3      4  \n",
            "4      5  \n",
            "\n",
            "[5 rows x 26 columns]\n"
          ]
        }
      ],
      "source": [
        "#Dataset merged\n",
        "import pandas as pd\n",
        "\n",
        "path = '/content/drive/MyDrive/FOD_A/'\n",
        "# Load the datasets\n",
        "df1 = pd.read_csv(path + 'dataset1.csv')\n",
        "df2 = pd.read_csv(path + 'dataset2.csv')\n",
        "df3 = pd.read_csv(path + 'dataset3.csv')\n",
        "\n",
        "# Merge the datasets\n",
        "merged_df = pd.merge(df1, df2, on='ID', how='inner')\n",
        "merged_df = pd.merge(merged_df, df3, on='ID', how='inner')\n",
        "\n",
        "# Save the merged dataset\n",
        "merged_df.to_csv('merged_dataset.csv', index=False)\n",
        "\n",
        "# Print the first few rows of the merged dataset\n",
        "print(merged_df.head())\n"
      ]
    },
    {
      "cell_type": "code",
      "source": [
        "merged_df.info()"
      ],
      "metadata": {
        "colab": {
          "base_uri": "https://localhost:8080/"
        },
        "id": "5_RmgoAhGBQK",
        "outputId": "279f6660-25ef-4072-9d3f-9c7ec4f504b5"
      },
      "execution_count": 6,
      "outputs": [
        {
          "output_type": "stream",
          "name": "stdout",
          "text": [
            "<class 'pandas.core.frame.DataFrame'>\n",
            "RangeIndex: 98278 entries, 0 to 98277\n",
            "Data columns (total 26 columns):\n",
            " #   Column    Non-Null Count  Dtype  \n",
            "---  ------    --------------  -----  \n",
            " 0   ID        98278 non-null  int64  \n",
            " 1   gender    98278 non-null  int64  \n",
            " 2   minority  98278 non-null  int64  \n",
            " 3   deprived  98278 non-null  int64  \n",
            " 4   C_we      98278 non-null  float64\n",
            " 5   C_wk      98278 non-null  float64\n",
            " 6   G_we      98278 non-null  float64\n",
            " 7   G_wk      98278 non-null  float64\n",
            " 8   S_we      98278 non-null  float64\n",
            " 9   S_wk      98278 non-null  float64\n",
            " 10  T_we      98278 non-null  float64\n",
            " 11  T_wk      98278 non-null  float64\n",
            " 12  Optm      98278 non-null  int64  \n",
            " 13  Usef      98278 non-null  int64  \n",
            " 14  Relx      98278 non-null  int64  \n",
            " 15  Intp      98278 non-null  int64  \n",
            " 16  Engs      98278 non-null  int64  \n",
            " 17  Dealpr    98278 non-null  int64  \n",
            " 18  Thcklr    98278 non-null  int64  \n",
            " 19  Goodme    98278 non-null  int64  \n",
            " 20  Clsep     98278 non-null  int64  \n",
            " 21  Conf      98278 non-null  int64  \n",
            " 22  Mkmind    98278 non-null  int64  \n",
            " 23  Loved     98278 non-null  int64  \n",
            " 24  Intthg    98278 non-null  int64  \n",
            " 25  Cheer     98278 non-null  int64  \n",
            "dtypes: float64(8), int64(18)\n",
            "memory usage: 19.5 MB\n"
          ]
        }
      ]
    },
    {
      "cell_type": "markdown",
      "source": [
        "**Descriptive Analysis**"
      ],
      "metadata": {
        "id": "sqaCK4y7G-Do"
      }
    },
    {
      "cell_type": "markdown",
      "source": [
        "## Descriptive Analysis:Investigation 1: Measure of Central Tendency"
      ],
      "metadata": {
        "id": "E1yNGP9AHPX4"
      }
    },
    {
      "cell_type": "markdown",
      "source": [
        "#Demographic Data"
      ],
      "metadata": {
        "id": "hl1GU0ELLV6-"
      }
    },
    {
      "cell_type": "markdown",
      "source": [
        "**Mode**"
      ],
      "metadata": {
        "id": "XUcNbibtTm4z"
      }
    },
    {
      "cell_type": "code",
      "source": [
        "demographic = merged_df[['gender', 'minority', 'deprived']]\n",
        "demographic.mode()"
      ],
      "metadata": {
        "id": "aio4aRQhLiO6",
        "colab": {
          "base_uri": "https://localhost:8080/",
          "height": 81
        },
        "outputId": "a0beaf19-2f56-4e33-b65c-27a87fd25103"
      },
      "execution_count": null,
      "outputs": [
        {
          "output_type": "execute_result",
          "data": {
            "text/plain": [
              "   gender  minority  deprived\n",
              "0       0         0         0"
            ],
            "text/html": [
              "\n",
              "  <div id=\"df-fe8e01b4-9711-4c2e-b64b-b489308b40ea\" class=\"colab-df-container\">\n",
              "    <div>\n",
              "<style scoped>\n",
              "    .dataframe tbody tr th:only-of-type {\n",
              "        vertical-align: middle;\n",
              "    }\n",
              "\n",
              "    .dataframe tbody tr th {\n",
              "        vertical-align: top;\n",
              "    }\n",
              "\n",
              "    .dataframe thead th {\n",
              "        text-align: right;\n",
              "    }\n",
              "</style>\n",
              "<table border=\"1\" class=\"dataframe\">\n",
              "  <thead>\n",
              "    <tr style=\"text-align: right;\">\n",
              "      <th></th>\n",
              "      <th>gender</th>\n",
              "      <th>minority</th>\n",
              "      <th>deprived</th>\n",
              "    </tr>\n",
              "  </thead>\n",
              "  <tbody>\n",
              "    <tr>\n",
              "      <th>0</th>\n",
              "      <td>0</td>\n",
              "      <td>0</td>\n",
              "      <td>0</td>\n",
              "    </tr>\n",
              "  </tbody>\n",
              "</table>\n",
              "</div>\n",
              "    <div class=\"colab-df-buttons\">\n",
              "\n",
              "  <div class=\"colab-df-container\">\n",
              "    <button class=\"colab-df-convert\" onclick=\"convertToInteractive('df-fe8e01b4-9711-4c2e-b64b-b489308b40ea')\"\n",
              "            title=\"Convert this dataframe to an interactive table.\"\n",
              "            style=\"display:none;\">\n",
              "\n",
              "  <svg xmlns=\"http://www.w3.org/2000/svg\" height=\"24px\" viewBox=\"0 -960 960 960\">\n",
              "    <path d=\"M120-120v-720h720v720H120Zm60-500h600v-160H180v160Zm220 220h160v-160H400v160Zm0 220h160v-160H400v160ZM180-400h160v-160H180v160Zm440 0h160v-160H620v160ZM180-180h160v-160H180v160Zm440 0h160v-160H620v160Z\"/>\n",
              "  </svg>\n",
              "    </button>\n",
              "\n",
              "  <style>\n",
              "    .colab-df-container {\n",
              "      display:flex;\n",
              "      gap: 12px;\n",
              "    }\n",
              "\n",
              "    .colab-df-convert {\n",
              "      background-color: #E8F0FE;\n",
              "      border: none;\n",
              "      border-radius: 50%;\n",
              "      cursor: pointer;\n",
              "      display: none;\n",
              "      fill: #1967D2;\n",
              "      height: 32px;\n",
              "      padding: 0 0 0 0;\n",
              "      width: 32px;\n",
              "    }\n",
              "\n",
              "    .colab-df-convert:hover {\n",
              "      background-color: #E2EBFA;\n",
              "      box-shadow: 0px 1px 2px rgba(60, 64, 67, 0.3), 0px 1px 3px 1px rgba(60, 64, 67, 0.15);\n",
              "      fill: #174EA6;\n",
              "    }\n",
              "\n",
              "    .colab-df-buttons div {\n",
              "      margin-bottom: 4px;\n",
              "    }\n",
              "\n",
              "    [theme=dark] .colab-df-convert {\n",
              "      background-color: #3B4455;\n",
              "      fill: #D2E3FC;\n",
              "    }\n",
              "\n",
              "    [theme=dark] .colab-df-convert:hover {\n",
              "      background-color: #434B5C;\n",
              "      box-shadow: 0px 1px 3px 1px rgba(0, 0, 0, 0.15);\n",
              "      filter: drop-shadow(0px 1px 2px rgba(0, 0, 0, 0.3));\n",
              "      fill: #FFFFFF;\n",
              "    }\n",
              "  </style>\n",
              "\n",
              "    <script>\n",
              "      const buttonEl =\n",
              "        document.querySelector('#df-fe8e01b4-9711-4c2e-b64b-b489308b40ea button.colab-df-convert');\n",
              "      buttonEl.style.display =\n",
              "        google.colab.kernel.accessAllowed ? 'block' : 'none';\n",
              "\n",
              "      async function convertToInteractive(key) {\n",
              "        const element = document.querySelector('#df-fe8e01b4-9711-4c2e-b64b-b489308b40ea');\n",
              "        const dataTable =\n",
              "          await google.colab.kernel.invokeFunction('convertToInteractive',\n",
              "                                                    [key], {});\n",
              "        if (!dataTable) return;\n",
              "\n",
              "        const docLinkHtml = 'Like what you see? Visit the ' +\n",
              "          '<a target=\"_blank\" href=https://colab.research.google.com/notebooks/data_table.ipynb>data table notebook</a>'\n",
              "          + ' to learn more about interactive tables.';\n",
              "        element.innerHTML = '';\n",
              "        dataTable['output_type'] = 'display_data';\n",
              "        await google.colab.output.renderOutput(dataTable, element);\n",
              "        const docLink = document.createElement('div');\n",
              "        docLink.innerHTML = docLinkHtml;\n",
              "        element.appendChild(docLink);\n",
              "      }\n",
              "    </script>\n",
              "  </div>\n",
              "\n",
              "\n",
              "    </div>\n",
              "  </div>\n"
            ],
            "application/vnd.google.colaboratory.intrinsic+json": {
              "type": "dataframe",
              "summary": "{\n  \"name\": \"demographic\",\n  \"rows\": 1,\n  \"fields\": [\n    {\n      \"column\": \"gender\",\n      \"properties\": {\n        \"dtype\": \"number\",\n        \"std\": null,\n        \"min\": 0,\n        \"max\": 0,\n        \"num_unique_values\": 1,\n        \"samples\": [\n          0\n        ],\n        \"semantic_type\": \"\",\n        \"description\": \"\"\n      }\n    },\n    {\n      \"column\": \"minority\",\n      \"properties\": {\n        \"dtype\": \"number\",\n        \"std\": null,\n        \"min\": 0,\n        \"max\": 0,\n        \"num_unique_values\": 1,\n        \"samples\": [\n          0\n        ],\n        \"semantic_type\": \"\",\n        \"description\": \"\"\n      }\n    },\n    {\n      \"column\": \"deprived\",\n      \"properties\": {\n        \"dtype\": \"number\",\n        \"std\": null,\n        \"min\": 0,\n        \"max\": 0,\n        \"num_unique_values\": 1,\n        \"samples\": [\n          0\n        ],\n        \"semantic_type\": \"\",\n        \"description\": \"\"\n      }\n    }\n  ]\n}"
            }
          },
          "metadata": {},
          "execution_count": 23
        }
      ]
    },
    {
      "cell_type": "markdown",
      "source": [
        "## **Frequency distribution**"
      ],
      "metadata": {
        "id": "qWYMYQW79XA2"
      }
    },
    {
      "cell_type": "code",
      "source": [
        "import matplotlib.pyplot as plt\n",
        "#Demographic data maping\n",
        "#gender\n",
        "merged_df['gender_mapped'] = merged_df['gender'].map({1: 'Male', 0: 'Female'})\n",
        "#Minority\n",
        "merged_df['minority_mapped'] = merged_df['minority'].map({1: 'Minority', 0: 'Mejority'})\n",
        "#Deprived\n",
        "merged_df['deprived_mapped'] = merged_df['deprived'].map({1: 'In locality', 0: 'Outside locality'})"
      ],
      "metadata": {
        "id": "gKKTbZvB-KDV"
      },
      "execution_count": 7,
      "outputs": []
    },
    {
      "cell_type": "code",
      "source": [
        "mapped_demographic = merged_df[['gender_mapped', 'minority_mapped', 'deprived_mapped']]\n",
        "mapped_demographic.head()"
      ],
      "metadata": {
        "id": "z_4kCzivO9uf",
        "colab": {
          "base_uri": "https://localhost:8080/",
          "height": 206
        },
        "outputId": "ba4c9d68-d553-4a4d-8601-77553062d438"
      },
      "execution_count": null,
      "outputs": [
        {
          "output_type": "execute_result",
          "data": {
            "text/plain": [
              "  gender_mapped minority_mapped   deprived_mapped\n",
              "0        Female        Mejority  Outside locality\n",
              "1        Female        Mejority  Outside locality\n",
              "2        Female        Mejority  Outside locality\n",
              "3        Female        Mejority  Outside locality\n",
              "4        Female        Mejority  Outside locality"
            ],
            "text/html": [
              "\n",
              "  <div id=\"df-dbb6bb2f-8a20-4ac9-947a-a98bdd839105\" class=\"colab-df-container\">\n",
              "    <div>\n",
              "<style scoped>\n",
              "    .dataframe tbody tr th:only-of-type {\n",
              "        vertical-align: middle;\n",
              "    }\n",
              "\n",
              "    .dataframe tbody tr th {\n",
              "        vertical-align: top;\n",
              "    }\n",
              "\n",
              "    .dataframe thead th {\n",
              "        text-align: right;\n",
              "    }\n",
              "</style>\n",
              "<table border=\"1\" class=\"dataframe\">\n",
              "  <thead>\n",
              "    <tr style=\"text-align: right;\">\n",
              "      <th></th>\n",
              "      <th>gender_mapped</th>\n",
              "      <th>minority_mapped</th>\n",
              "      <th>deprived_mapped</th>\n",
              "    </tr>\n",
              "  </thead>\n",
              "  <tbody>\n",
              "    <tr>\n",
              "      <th>0</th>\n",
              "      <td>Female</td>\n",
              "      <td>Mejority</td>\n",
              "      <td>Outside locality</td>\n",
              "    </tr>\n",
              "    <tr>\n",
              "      <th>1</th>\n",
              "      <td>Female</td>\n",
              "      <td>Mejority</td>\n",
              "      <td>Outside locality</td>\n",
              "    </tr>\n",
              "    <tr>\n",
              "      <th>2</th>\n",
              "      <td>Female</td>\n",
              "      <td>Mejority</td>\n",
              "      <td>Outside locality</td>\n",
              "    </tr>\n",
              "    <tr>\n",
              "      <th>3</th>\n",
              "      <td>Female</td>\n",
              "      <td>Mejority</td>\n",
              "      <td>Outside locality</td>\n",
              "    </tr>\n",
              "    <tr>\n",
              "      <th>4</th>\n",
              "      <td>Female</td>\n",
              "      <td>Mejority</td>\n",
              "      <td>Outside locality</td>\n",
              "    </tr>\n",
              "  </tbody>\n",
              "</table>\n",
              "</div>\n",
              "    <div class=\"colab-df-buttons\">\n",
              "\n",
              "  <div class=\"colab-df-container\">\n",
              "    <button class=\"colab-df-convert\" onclick=\"convertToInteractive('df-dbb6bb2f-8a20-4ac9-947a-a98bdd839105')\"\n",
              "            title=\"Convert this dataframe to an interactive table.\"\n",
              "            style=\"display:none;\">\n",
              "\n",
              "  <svg xmlns=\"http://www.w3.org/2000/svg\" height=\"24px\" viewBox=\"0 -960 960 960\">\n",
              "    <path d=\"M120-120v-720h720v720H120Zm60-500h600v-160H180v160Zm220 220h160v-160H400v160Zm0 220h160v-160H400v160ZM180-400h160v-160H180v160Zm440 0h160v-160H620v160ZM180-180h160v-160H180v160Zm440 0h160v-160H620v160Z\"/>\n",
              "  </svg>\n",
              "    </button>\n",
              "\n",
              "  <style>\n",
              "    .colab-df-container {\n",
              "      display:flex;\n",
              "      gap: 12px;\n",
              "    }\n",
              "\n",
              "    .colab-df-convert {\n",
              "      background-color: #E8F0FE;\n",
              "      border: none;\n",
              "      border-radius: 50%;\n",
              "      cursor: pointer;\n",
              "      display: none;\n",
              "      fill: #1967D2;\n",
              "      height: 32px;\n",
              "      padding: 0 0 0 0;\n",
              "      width: 32px;\n",
              "    }\n",
              "\n",
              "    .colab-df-convert:hover {\n",
              "      background-color: #E2EBFA;\n",
              "      box-shadow: 0px 1px 2px rgba(60, 64, 67, 0.3), 0px 1px 3px 1px rgba(60, 64, 67, 0.15);\n",
              "      fill: #174EA6;\n",
              "    }\n",
              "\n",
              "    .colab-df-buttons div {\n",
              "      margin-bottom: 4px;\n",
              "    }\n",
              "\n",
              "    [theme=dark] .colab-df-convert {\n",
              "      background-color: #3B4455;\n",
              "      fill: #D2E3FC;\n",
              "    }\n",
              "\n",
              "    [theme=dark] .colab-df-convert:hover {\n",
              "      background-color: #434B5C;\n",
              "      box-shadow: 0px 1px 3px 1px rgba(0, 0, 0, 0.15);\n",
              "      filter: drop-shadow(0px 1px 2px rgba(0, 0, 0, 0.3));\n",
              "      fill: #FFFFFF;\n",
              "    }\n",
              "  </style>\n",
              "\n",
              "    <script>\n",
              "      const buttonEl =\n",
              "        document.querySelector('#df-dbb6bb2f-8a20-4ac9-947a-a98bdd839105 button.colab-df-convert');\n",
              "      buttonEl.style.display =\n",
              "        google.colab.kernel.accessAllowed ? 'block' : 'none';\n",
              "\n",
              "      async function convertToInteractive(key) {\n",
              "        const element = document.querySelector('#df-dbb6bb2f-8a20-4ac9-947a-a98bdd839105');\n",
              "        const dataTable =\n",
              "          await google.colab.kernel.invokeFunction('convertToInteractive',\n",
              "                                                    [key], {});\n",
              "        if (!dataTable) return;\n",
              "\n",
              "        const docLinkHtml = 'Like what you see? Visit the ' +\n",
              "          '<a target=\"_blank\" href=https://colab.research.google.com/notebooks/data_table.ipynb>data table notebook</a>'\n",
              "          + ' to learn more about interactive tables.';\n",
              "        element.innerHTML = '';\n",
              "        dataTable['output_type'] = 'display_data';\n",
              "        await google.colab.output.renderOutput(dataTable, element);\n",
              "        const docLink = document.createElement('div');\n",
              "        docLink.innerHTML = docLinkHtml;\n",
              "        element.appendChild(docLink);\n",
              "      }\n",
              "    </script>\n",
              "  </div>\n",
              "\n",
              "\n",
              "<div id=\"df-6b1fabe6-8532-4d2e-8962-a9e0cfc33fda\">\n",
              "  <button class=\"colab-df-quickchart\" onclick=\"quickchart('df-6b1fabe6-8532-4d2e-8962-a9e0cfc33fda')\"\n",
              "            title=\"Suggest charts\"\n",
              "            style=\"display:none;\">\n",
              "\n",
              "<svg xmlns=\"http://www.w3.org/2000/svg\" height=\"24px\"viewBox=\"0 0 24 24\"\n",
              "     width=\"24px\">\n",
              "    <g>\n",
              "        <path d=\"M19 3H5c-1.1 0-2 .9-2 2v14c0 1.1.9 2 2 2h14c1.1 0 2-.9 2-2V5c0-1.1-.9-2-2-2zM9 17H7v-7h2v7zm4 0h-2V7h2v10zm4 0h-2v-4h2v4z\"/>\n",
              "    </g>\n",
              "</svg>\n",
              "  </button>\n",
              "\n",
              "<style>\n",
              "  .colab-df-quickchart {\n",
              "      --bg-color: #E8F0FE;\n",
              "      --fill-color: #1967D2;\n",
              "      --hover-bg-color: #E2EBFA;\n",
              "      --hover-fill-color: #174EA6;\n",
              "      --disabled-fill-color: #AAA;\n",
              "      --disabled-bg-color: #DDD;\n",
              "  }\n",
              "\n",
              "  [theme=dark] .colab-df-quickchart {\n",
              "      --bg-color: #3B4455;\n",
              "      --fill-color: #D2E3FC;\n",
              "      --hover-bg-color: #434B5C;\n",
              "      --hover-fill-color: #FFFFFF;\n",
              "      --disabled-bg-color: #3B4455;\n",
              "      --disabled-fill-color: #666;\n",
              "  }\n",
              "\n",
              "  .colab-df-quickchart {\n",
              "    background-color: var(--bg-color);\n",
              "    border: none;\n",
              "    border-radius: 50%;\n",
              "    cursor: pointer;\n",
              "    display: none;\n",
              "    fill: var(--fill-color);\n",
              "    height: 32px;\n",
              "    padding: 0;\n",
              "    width: 32px;\n",
              "  }\n",
              "\n",
              "  .colab-df-quickchart:hover {\n",
              "    background-color: var(--hover-bg-color);\n",
              "    box-shadow: 0 1px 2px rgba(60, 64, 67, 0.3), 0 1px 3px 1px rgba(60, 64, 67, 0.15);\n",
              "    fill: var(--button-hover-fill-color);\n",
              "  }\n",
              "\n",
              "  .colab-df-quickchart-complete:disabled,\n",
              "  .colab-df-quickchart-complete:disabled:hover {\n",
              "    background-color: var(--disabled-bg-color);\n",
              "    fill: var(--disabled-fill-color);\n",
              "    box-shadow: none;\n",
              "  }\n",
              "\n",
              "  .colab-df-spinner {\n",
              "    border: 2px solid var(--fill-color);\n",
              "    border-color: transparent;\n",
              "    border-bottom-color: var(--fill-color);\n",
              "    animation:\n",
              "      spin 1s steps(1) infinite;\n",
              "  }\n",
              "\n",
              "  @keyframes spin {\n",
              "    0% {\n",
              "      border-color: transparent;\n",
              "      border-bottom-color: var(--fill-color);\n",
              "      border-left-color: var(--fill-color);\n",
              "    }\n",
              "    20% {\n",
              "      border-color: transparent;\n",
              "      border-left-color: var(--fill-color);\n",
              "      border-top-color: var(--fill-color);\n",
              "    }\n",
              "    30% {\n",
              "      border-color: transparent;\n",
              "      border-left-color: var(--fill-color);\n",
              "      border-top-color: var(--fill-color);\n",
              "      border-right-color: var(--fill-color);\n",
              "    }\n",
              "    40% {\n",
              "      border-color: transparent;\n",
              "      border-right-color: var(--fill-color);\n",
              "      border-top-color: var(--fill-color);\n",
              "    }\n",
              "    60% {\n",
              "      border-color: transparent;\n",
              "      border-right-color: var(--fill-color);\n",
              "    }\n",
              "    80% {\n",
              "      border-color: transparent;\n",
              "      border-right-color: var(--fill-color);\n",
              "      border-bottom-color: var(--fill-color);\n",
              "    }\n",
              "    90% {\n",
              "      border-color: transparent;\n",
              "      border-bottom-color: var(--fill-color);\n",
              "    }\n",
              "  }\n",
              "</style>\n",
              "\n",
              "  <script>\n",
              "    async function quickchart(key) {\n",
              "      const quickchartButtonEl =\n",
              "        document.querySelector('#' + key + ' button');\n",
              "      quickchartButtonEl.disabled = true;  // To prevent multiple clicks.\n",
              "      quickchartButtonEl.classList.add('colab-df-spinner');\n",
              "      try {\n",
              "        const charts = await google.colab.kernel.invokeFunction(\n",
              "            'suggestCharts', [key], {});\n",
              "      } catch (error) {\n",
              "        console.error('Error during call to suggestCharts:', error);\n",
              "      }\n",
              "      quickchartButtonEl.classList.remove('colab-df-spinner');\n",
              "      quickchartButtonEl.classList.add('colab-df-quickchart-complete');\n",
              "    }\n",
              "    (() => {\n",
              "      let quickchartButtonEl =\n",
              "        document.querySelector('#df-6b1fabe6-8532-4d2e-8962-a9e0cfc33fda button');\n",
              "      quickchartButtonEl.style.display =\n",
              "        google.colab.kernel.accessAllowed ? 'block' : 'none';\n",
              "    })();\n",
              "  </script>\n",
              "</div>\n",
              "\n",
              "    </div>\n",
              "  </div>\n"
            ],
            "application/vnd.google.colaboratory.intrinsic+json": {
              "type": "dataframe",
              "variable_name": "mapped_demographic",
              "summary": "{\n  \"name\": \"mapped_demographic\",\n  \"rows\": 98278,\n  \"fields\": [\n    {\n      \"column\": \"gender_mapped\",\n      \"properties\": {\n        \"dtype\": \"category\",\n        \"num_unique_values\": 2,\n        \"samples\": [\n          \"Male\",\n          \"Female\"\n        ],\n        \"semantic_type\": \"\",\n        \"description\": \"\"\n      }\n    },\n    {\n      \"column\": \"minority_mapped\",\n      \"properties\": {\n        \"dtype\": \"category\",\n        \"num_unique_values\": 2,\n        \"samples\": [\n          \"Minority\",\n          \"Mejority\"\n        ],\n        \"semantic_type\": \"\",\n        \"description\": \"\"\n      }\n    },\n    {\n      \"column\": \"deprived_mapped\",\n      \"properties\": {\n        \"dtype\": \"category\",\n        \"num_unique_values\": 2,\n        \"samples\": [\n          \"In locality\",\n          \"Outside locality\"\n        ],\n        \"semantic_type\": \"\",\n        \"description\": \"\"\n      }\n    }\n  ]\n}"
            }
          },
          "metadata": {},
          "execution_count": 25
        }
      ]
    },
    {
      "cell_type": "code",
      "source": [
        "mapped_demographic.mode()"
      ],
      "metadata": {
        "id": "1ieFgmr6PHYb",
        "colab": {
          "base_uri": "https://localhost:8080/",
          "height": 81
        },
        "outputId": "26e3d456-29b4-4891-af49-fbecfb18eb64"
      },
      "execution_count": null,
      "outputs": [
        {
          "output_type": "execute_result",
          "data": {
            "text/plain": [
              "  gender_mapped minority_mapped   deprived_mapped\n",
              "0        Female        Mejority  Outside locality"
            ],
            "text/html": [
              "\n",
              "  <div id=\"df-32af1573-c36a-4c56-b461-0d93e11b171e\" class=\"colab-df-container\">\n",
              "    <div>\n",
              "<style scoped>\n",
              "    .dataframe tbody tr th:only-of-type {\n",
              "        vertical-align: middle;\n",
              "    }\n",
              "\n",
              "    .dataframe tbody tr th {\n",
              "        vertical-align: top;\n",
              "    }\n",
              "\n",
              "    .dataframe thead th {\n",
              "        text-align: right;\n",
              "    }\n",
              "</style>\n",
              "<table border=\"1\" class=\"dataframe\">\n",
              "  <thead>\n",
              "    <tr style=\"text-align: right;\">\n",
              "      <th></th>\n",
              "      <th>gender_mapped</th>\n",
              "      <th>minority_mapped</th>\n",
              "      <th>deprived_mapped</th>\n",
              "    </tr>\n",
              "  </thead>\n",
              "  <tbody>\n",
              "    <tr>\n",
              "      <th>0</th>\n",
              "      <td>Female</td>\n",
              "      <td>Mejority</td>\n",
              "      <td>Outside locality</td>\n",
              "    </tr>\n",
              "  </tbody>\n",
              "</table>\n",
              "</div>\n",
              "    <div class=\"colab-df-buttons\">\n",
              "\n",
              "  <div class=\"colab-df-container\">\n",
              "    <button class=\"colab-df-convert\" onclick=\"convertToInteractive('df-32af1573-c36a-4c56-b461-0d93e11b171e')\"\n",
              "            title=\"Convert this dataframe to an interactive table.\"\n",
              "            style=\"display:none;\">\n",
              "\n",
              "  <svg xmlns=\"http://www.w3.org/2000/svg\" height=\"24px\" viewBox=\"0 -960 960 960\">\n",
              "    <path d=\"M120-120v-720h720v720H120Zm60-500h600v-160H180v160Zm220 220h160v-160H400v160Zm0 220h160v-160H400v160ZM180-400h160v-160H180v160Zm440 0h160v-160H620v160ZM180-180h160v-160H180v160Zm440 0h160v-160H620v160Z\"/>\n",
              "  </svg>\n",
              "    </button>\n",
              "\n",
              "  <style>\n",
              "    .colab-df-container {\n",
              "      display:flex;\n",
              "      gap: 12px;\n",
              "    }\n",
              "\n",
              "    .colab-df-convert {\n",
              "      background-color: #E8F0FE;\n",
              "      border: none;\n",
              "      border-radius: 50%;\n",
              "      cursor: pointer;\n",
              "      display: none;\n",
              "      fill: #1967D2;\n",
              "      height: 32px;\n",
              "      padding: 0 0 0 0;\n",
              "      width: 32px;\n",
              "    }\n",
              "\n",
              "    .colab-df-convert:hover {\n",
              "      background-color: #E2EBFA;\n",
              "      box-shadow: 0px 1px 2px rgba(60, 64, 67, 0.3), 0px 1px 3px 1px rgba(60, 64, 67, 0.15);\n",
              "      fill: #174EA6;\n",
              "    }\n",
              "\n",
              "    .colab-df-buttons div {\n",
              "      margin-bottom: 4px;\n",
              "    }\n",
              "\n",
              "    [theme=dark] .colab-df-convert {\n",
              "      background-color: #3B4455;\n",
              "      fill: #D2E3FC;\n",
              "    }\n",
              "\n",
              "    [theme=dark] .colab-df-convert:hover {\n",
              "      background-color: #434B5C;\n",
              "      box-shadow: 0px 1px 3px 1px rgba(0, 0, 0, 0.15);\n",
              "      filter: drop-shadow(0px 1px 2px rgba(0, 0, 0, 0.3));\n",
              "      fill: #FFFFFF;\n",
              "    }\n",
              "  </style>\n",
              "\n",
              "    <script>\n",
              "      const buttonEl =\n",
              "        document.querySelector('#df-32af1573-c36a-4c56-b461-0d93e11b171e button.colab-df-convert');\n",
              "      buttonEl.style.display =\n",
              "        google.colab.kernel.accessAllowed ? 'block' : 'none';\n",
              "\n",
              "      async function convertToInteractive(key) {\n",
              "        const element = document.querySelector('#df-32af1573-c36a-4c56-b461-0d93e11b171e');\n",
              "        const dataTable =\n",
              "          await google.colab.kernel.invokeFunction('convertToInteractive',\n",
              "                                                    [key], {});\n",
              "        if (!dataTable) return;\n",
              "\n",
              "        const docLinkHtml = 'Like what you see? Visit the ' +\n",
              "          '<a target=\"_blank\" href=https://colab.research.google.com/notebooks/data_table.ipynb>data table notebook</a>'\n",
              "          + ' to learn more about interactive tables.';\n",
              "        element.innerHTML = '';\n",
              "        dataTable['output_type'] = 'display_data';\n",
              "        await google.colab.output.renderOutput(dataTable, element);\n",
              "        const docLink = document.createElement('div');\n",
              "        docLink.innerHTML = docLinkHtml;\n",
              "        element.appendChild(docLink);\n",
              "      }\n",
              "    </script>\n",
              "  </div>\n",
              "\n",
              "\n",
              "    </div>\n",
              "  </div>\n"
            ],
            "application/vnd.google.colaboratory.intrinsic+json": {
              "type": "dataframe",
              "summary": "{\n  \"name\": \"mapped_demographic\",\n  \"rows\": 1,\n  \"fields\": [\n    {\n      \"column\": \"gender_mapped\",\n      \"properties\": {\n        \"dtype\": \"string\",\n        \"num_unique_values\": 1,\n        \"samples\": [\n          \"Female\"\n        ],\n        \"semantic_type\": \"\",\n        \"description\": \"\"\n      }\n    },\n    {\n      \"column\": \"minority_mapped\",\n      \"properties\": {\n        \"dtype\": \"string\",\n        \"num_unique_values\": 1,\n        \"samples\": [\n          \"Mejority\"\n        ],\n        \"semantic_type\": \"\",\n        \"description\": \"\"\n      }\n    },\n    {\n      \"column\": \"deprived_mapped\",\n      \"properties\": {\n        \"dtype\": \"string\",\n        \"num_unique_values\": 1,\n        \"samples\": [\n          \"Outside locality\"\n        ],\n        \"semantic_type\": \"\",\n        \"description\": \"\"\n      }\n    }\n  ]\n}"
            }
          },
          "metadata": {},
          "execution_count": 26
        }
      ]
    },
    {
      "cell_type": "code",
      "source": [
        "\n",
        "# Descriptive analysis and visualization\n",
        "def plot_demographic_distribution(df, column, title):\n",
        "    # Frequency counts\n",
        "    counts = df[column].value_counts()\n",
        "\n",
        "    # Bar Plot\n",
        "    plt.figure(figsize=(8, 5))\n",
        "    counts.plot(kind='bar', color=['skyblue', 'lightcoral'])\n",
        "    plt.title(f'{title} - Bar Plot')\n",
        "    plt.ylabel('Count')\n",
        "    plt.xlabel(column)\n",
        "    plt.xticks(rotation=0)\n",
        "    plt.show()\n",
        "\n",
        "    # Pie Chart\n",
        "    plt.figure(figsize=(6, 6))\n",
        "    counts.plot(kind='pie', autopct='%1.1f%%', colors=['lightgreen', 'lightblue'], startangle=90, wedgeprops={'edgecolor': 'black'})\n",
        "    plt.title(f'{title} - Pie Chart')\n",
        "    plt.ylabel('')  # Remove y-label for pie chart\n",
        "    plt.show()\n",
        "\n",
        "# Gender distribution\n",
        "plot_demographic_distribution(merged_df, 'gender_mapped', 'Gender Distribution')\n",
        "\n",
        "# Minority status distribution\n",
        "plot_demographic_distribution(merged_df, 'minority_mapped', 'Minority Status Distribution')\n",
        "\n",
        "# Deprivation status distribution\n",
        "plot_demographic_distribution(merged_df, 'deprived_mapped', 'Deprivation Status Distribution')\n"
      ],
      "metadata": {
        "id": "TE93Rs1n6BxF",
        "colab": {
          "base_uri": "https://localhost:8080/",
          "height": 1000
        },
        "outputId": "adbf773e-d1fa-4dd9-a277-1921b9df5a9d"
      },
      "execution_count": null,
      "outputs": [
        {
          "output_type": "display_data",
          "data": {
            "text/plain": [
              "<Figure size 800x500 with 1 Axes>"
            ],
            "image/png": "[encoded data removed]"
          },
          "metadata": {}
        },
        {
          "output_type": "display_data",
          "data": {
            "text/plain": [
              "<Figure size 600x600 with 1 Axes>"
            ],
            "image/png": "[encoded data removed]"
          },
          "metadata": {}
        },
        {
          "output_type": "display_data",
          "data": {
            "text/plain": [
              "<Figure size 800x500 with 1 Axes>"
            ],
            "image/png": "[encoded data removed]"
          },
          "metadata": {}
        },
        {
          "output_type": "display_data",
          "data": {
            "text/plain": [
              "<Figure size 600x600 with 1 Axes>"
            ],
            "image/png": "[encoded data removed]"
          },
          "metadata": {}
        },
        {
          "output_type": "display_data",
          "data": {
            "text/plain": [
              "<Figure size 800x500 with 1 Axes>"
            ],
            "image/png": "[encoded data removed]"
          },
          "metadata": {}
        },
        {
          "output_type": "display_data",
          "data": {
            "text/plain": [
              "<Figure size 600x600 with 1 Axes>"
            ],
            "image/png": "[encoded data removed]"
          },
          "metadata": {}
        }
      ]
    },
    {
      "cell_type": "markdown",
      "source": [
        "# **Screentime**"
      ],
      "metadata": {
        "id": "FR2Hpk4p6xRw"
      }
    },
    {
      "cell_type": "code",
      "source": [
        "screentime = merged_df[['C_wk', 'G_wk', 'S_wk', 'T_wk', 'C_we', 'G_we', 'S_we', 'T_we']]\n",
        "screentime.describe()"
      ],
      "metadata": {
        "colab": {
          "base_uri": "https://localhost:8080/",
          "height": 158
        },
        "id": "Peo8SU7J66SI",
        "outputId": "4bac6314-6e03-4647-bbc1-b4ab9376ec9e"
      },
      "execution_count": null,
      "outputs": [
        {
          "output_type": "error",
          "ename": "NameError",
          "evalue": "name 'merged_df' is not defined",
          "traceback": [
            "\u001b[0;31m---------------------------------------------------------------------------\u001b[0m",
            "\u001b[0;31mNameError\u001b[0m                                 Traceback (most recent call last)",
            "\u001b[0;32m<ipython-input-3-da1896a8bdd2>\u001b[0m in \u001b[0;36m<cell line: 1>\u001b[0;34m()\u001b[0m\n\u001b[0;32m----> 1\u001b[0;31m \u001b[0mscreentime\u001b[0m \u001b[0;34m=\u001b[0m \u001b[0mmerged_df\u001b[0m\u001b[0;34m[\u001b[0m\u001b[0;34m[\u001b[0m\u001b[0;34m'C_wk'\u001b[0m\u001b[0;34m,\u001b[0m \u001b[0;34m'G_wk'\u001b[0m\u001b[0;34m,\u001b[0m \u001b[0;34m'S_wk'\u001b[0m\u001b[0;34m,\u001b[0m \u001b[0;34m'T_wk'\u001b[0m\u001b[0;34m,\u001b[0m \u001b[0;34m'C_we'\u001b[0m\u001b[0;34m,\u001b[0m \u001b[0;34m'G_we'\u001b[0m\u001b[0;34m,\u001b[0m \u001b[0;34m'S_we'\u001b[0m\u001b[0;34m,\u001b[0m \u001b[0;34m'T_we'\u001b[0m\u001b[0;34m]\u001b[0m\u001b[0;34m]\u001b[0m\u001b[0;34m\u001b[0m\u001b[0;34m\u001b[0m\u001b[0m\n\u001b[0m\u001b[1;32m      2\u001b[0m \u001b[0mscreentime\u001b[0m\u001b[0;34m.\u001b[0m\u001b[0mdescribe\u001b[0m\u001b[0;34m(\u001b[0m\u001b[0;34m)\u001b[0m\u001b[0;34m\u001b[0m\u001b[0;34m\u001b[0m\u001b[0m\n",
            "\u001b[0;31mNameError\u001b[0m: name 'merged_df' is not defined"
          ]
        }
      ]
    },
    {
      "cell_type": "code",
      "source": [
        "# Create a boxplot\n",
        "plt.figure(figsize=(10, 6))\n",
        "screentime.boxplot()\n",
        "\n",
        "# Add title and labels\n",
        "plt.title('Boxplot of screentime')\n",
        "plt.xlabel('Variables')\n",
        "plt.ylabel('Values')\n",
        "\n",
        "# Show the plot\n",
        "plt.show()"
      ],
      "metadata": {
        "id": "dyGJNy2k9TJ6"
      },
      "execution_count": null,
      "outputs": []
    },
    {
      "cell_type": "markdown",
      "source": [
        "# **Wellbing**"
      ],
      "metadata": {
        "id": "eL1uz4q1BH1z"
      }
    },
    {
      "cell_type": "code",
      "source": [
        "wellbeing = merged_df[['Optm', 'Usef', 'Relx', 'Intp', 'Engs', 'Dealpr', 'Thcklr', 'Goodme', 'Clsep', 'Conf', 'Mkmind', 'Loved', 'Intthg', 'Cheer']]"
      ],
      "metadata": {
        "id": "f7hjJ7cTBNFa",
        "colab": {
          "base_uri": "https://localhost:8080/",
          "height": 158
        },
        "outputId": "a915af75-62bf-4c2f-bf45-d994bf40fd12"
      },
      "execution_count": null,
      "outputs": [
        {
          "output_type": "error",
          "ename": "NameError",
          "evalue": "name 'merged_df' is not defined",
          "traceback": [
            "\u001b[0;31m---------------------------------------------------------------------------\u001b[0m",
            "\u001b[0;31mNameError\u001b[0m                                 Traceback (most recent call last)",
            "\u001b[0;32m<ipython-input-4-2ed546ae38c8>\u001b[0m in \u001b[0;36m<cell line: 1>\u001b[0;34m()\u001b[0m\n\u001b[0;32m----> 1\u001b[0;31m \u001b[0mwellbeing\u001b[0m \u001b[0;34m=\u001b[0m \u001b[0mmerged_df\u001b[0m\u001b[0;34m[\u001b[0m\u001b[0;34m[\u001b[0m\u001b[0;34m'Optm'\u001b[0m\u001b[0;34m,\u001b[0m \u001b[0;34m'Usef'\u001b[0m\u001b[0;34m,\u001b[0m \u001b[0;34m'Relx'\u001b[0m\u001b[0;34m,\u001b[0m \u001b[0;34m'Intp'\u001b[0m\u001b[0;34m,\u001b[0m \u001b[0;34m'Engs'\u001b[0m\u001b[0;34m,\u001b[0m \u001b[0;34m'Dealpr'\u001b[0m\u001b[0;34m,\u001b[0m \u001b[0;34m'Thcklr'\u001b[0m\u001b[0;34m,\u001b[0m \u001b[0;34m'Goodme'\u001b[0m\u001b[0;34m,\u001b[0m \u001b[0;34m'Clsep'\u001b[0m\u001b[0;34m,\u001b[0m \u001b[0;34m'Conf'\u001b[0m\u001b[0;34m,\u001b[0m \u001b[0;34m'Mkmind'\u001b[0m\u001b[0;34m,\u001b[0m \u001b[0;34m'Loved'\u001b[0m\u001b[0;34m,\u001b[0m \u001b[0;34m'Intthg'\u001b[0m\u001b[0;34m,\u001b[0m \u001b[0;34m'Cheer'\u001b[0m\u001b[0;34m]\u001b[0m\u001b[0;34m]\u001b[0m\u001b[0;34m\u001b[0m\u001b[0;34m\u001b[0m\u001b[0m\n\u001b[0m",
            "\u001b[0;31mNameError\u001b[0m: name 'merged_df' is not defined"
          ]
        }
      ]
    },
    {
      "cell_type": "code",
      "source": [
        "wellbeing.describe()"
      ],
      "metadata": {
        "id": "15KDoKdSDdAo"
      },
      "execution_count": null,
      "outputs": []
    },
    {
      "cell_type": "code",
      "source": [
        "wellbeing.mode()"
      ],
      "metadata": {
        "id": "S49xUkYXDprp"
      },
      "execution_count": null,
      "outputs": []
    },
    {
      "cell_type": "code",
      "source": [
        "wellbeing.median()"
      ],
      "metadata": {
        "id": "zq86nOlUyoe7"
      },
      "execution_count": null,
      "outputs": []
    },
    {
      "cell_type": "code",
      "source": [
        "mapped_wellbeing = wellbeing.replace({1: 'None of the time', 2: 'Rarely' , 3: 'Some of the times',\n",
        "                                      4: 'Often', 5: 'All of the time'})"
      ],
      "metadata": {
        "id": "kDkJb_opDvsR"
      },
      "execution_count": null,
      "outputs": []
    },
    {
      "cell_type": "code",
      "source": [
        "mapped_wellbeing.head()"
      ],
      "metadata": {
        "id": "NIv6LHFbNyG4"
      },
      "execution_count": null,
      "outputs": []
    },
    {
      "cell_type": "code",
      "source": [
        "mapped_wellbeing.mode()"
      ],
      "metadata": {
        "id": "CvDQjGe_Ot8X"
      },
      "execution_count": null,
      "outputs": []
    },
    {
      "cell_type": "code",
      "source": [
        "mapped_wellbeing.median()"
      ],
      "metadata": {
        "id": "0V7QWunGyz-K"
      },
      "execution_count": null,
      "outputs": []
    },
    {
      "cell_type": "markdown",
      "source": [
        "**Frequency** **distribution**"
      ],
      "metadata": {
        "id": "-2sO8CcAIcod"
      }
    },
    {
      "cell_type": "code",
      "source": [
        "# Function to plot bar chart with percentages\n",
        "\n",
        "import pandas as pd\n",
        "import matplotlib.pyplot as plt\n",
        "\n",
        "def plot_wellbeing_distribution(df, column, title):\n",
        "    # Frequency counts\n",
        "    counts = df[column].value_counts()\n",
        "\n",
        "    # Calculate the percentage distribution\n",
        "    percentage_distribution = (counts / len(df[column])) * 100 # Changed 'frequency_distribution' to 'counts'\n",
        "\n",
        "    # Plot the bar chart\n",
        "    percentage_distribution.plot(kind='bar', color='skyblue')\n",
        "\n",
        "    # Add labels and title\n",
        "    plt.xlabel('Categories')\n",
        "    plt.ylabel('Percentage (%)')\n",
        "    plt.title(title)\n",
        "\n",
        "    # Display percentages on top of bars\n",
        "    for i in range(len(percentage_distribution)):\n",
        "        plt.text(i, percentage_distribution[i] + 0.5, f'{percentage_distribution[i]:.2f}%', ha='center', va='bottom')\n",
        "\n",
        "    # Show the plot\n",
        "    plt.show()\n",
        "\n",
        "# Call the function to plot the bar chart with percentages\n",
        "plot_wellbeing_distribution(mapped_wellbeing, 'Optm', 'Wellbeing Distribution for Optm')\n",
        "plot_wellbeing_distribution(mapped_wellbeing, 'Usef', 'Wellbeing Distribution for Usef')\n",
        "plot_wellbeing_distribution(mapped_wellbeing, 'Relx', 'Wellbeing Distribution for Relx')\n",
        "plot_wellbeing_distribution(mapped_wellbeing, 'Intp', 'Wellbeing Distribution for Intp')\n",
        "plot_wellbeing_distribution(mapped_wellbeing, 'Engs', 'Wellbeing Distribution for Engs')\n",
        "plot_wellbeing_distribution(mapped_wellbeing, 'Dealpr', 'Wellbeing Distribution for Dealpr')\n",
        "plot_wellbeing_distribution(mapped_wellbeing, 'Thcklr', 'Wellbeing Distribution for Thcklr')\n",
        "plot_wellbeing_distribution(mapped_wellbeing, 'Goodme', 'Wellbeing Distribution for Goodme')\n",
        "plot_wellbeing_distribution(mapped_wellbeing, 'Clsep', 'Wellbeing Distribution for Clsep')\n",
        "plot_wellbeing_distribution(mapped_wellbeing, 'Conf', 'Wellbeing Distribution for Conf')\n",
        "plot_wellbeing_distribution(mapped_wellbeing, 'Mkmind', 'Wellbeing Distribution for Mkmind')\n",
        "plot_wellbeing_distribution(mapped_wellbeing, 'Loved', 'Wellbeing Distribution for Loved')\n",
        "plot_wellbeing_distribution(mapped_wellbeing, 'Intthg', 'Wellbeing Distribution for Intthg')\n",
        "plot_wellbeing_distribution(mapped_wellbeing, 'Cheer', 'Wellbeing Distribution for Cheer')\n",
        "\n"
      ],
      "metadata": {
        "id": "ULAaX3AJIi_y"
      },
      "execution_count": null,
      "outputs": []
    },
    {
      "cell_type": "markdown",
      "source": [
        "# **Descriptive Analysis : Investigation 2 : Histogram**"
      ],
      "metadata": {
        "id": "9iaGxYyKPjS_"
      }
    },
    {
      "cell_type": "markdown",
      "source": [
        "# Demographical Data"
      ],
      "metadata": {
        "id": "f-vh6_v3anx2"
      }
    },
    {
      "cell_type": "markdown",
      "source": [
        "# Screentime"
      ],
      "metadata": {
        "id": "Ya06ngG4a01f"
      }
    },
    {
      "cell_type": "code",
      "source": [
        "# Function to plot histograms for all columns in a DataFrame\n",
        "def plot_histograms(df):\n",
        "    # Loop through each column in the DataFrame\n",
        "    for column in df.columns:\n",
        "        # Check if the column contains numeric data\n",
        "        if pd.api.types.is_numeric_dtype(df[column]):\n",
        "            # Plot the histogram\n",
        "            plt.figure(figsize=(8, 6))  # Set the figure size\n",
        "            plt.hist(df[column], bins=7, color='skyblue', edgecolor='black', alpha=0.7)\n",
        "\n",
        "            # Add labels and title\n",
        "            plt.xlabel(column.capitalize())\n",
        "            plt.ylabel('Frequency')\n",
        "            plt.title(f'Histogram of {column.capitalize()}')\n",
        "\n",
        "            # Show the plot\n",
        "            plt.show()\n",
        "\n",
        "# Call the function to plot histograms for all numerical columns\n",
        "plot_histograms(screentime)"
      ],
      "metadata": {
        "id": "ek3RXbbwbAsR"
      },
      "execution_count": null,
      "outputs": []
    },
    {
      "cell_type": "markdown",
      "source": [
        "# Wellbeing"
      ],
      "metadata": {
        "id": "jsZL7cuGdCwr"
      }
    },
    {
      "cell_type": "code",
      "source": [
        "# Function to plot histograms for all columns in a DataFrame\n",
        "def plot_histograms(df):\n",
        "    # Loop through each column in the DataFrame\n",
        "    for column in df.columns:\n",
        "        # Check if the column contains numeric data\n",
        "        if pd.api.types.is_numeric_dtype(df[column]):\n",
        "            # Plot the histogram\n",
        "            plt.figure(figsize=(8, 6))  # Set the figure size\n",
        "            plt.hist(df[column], bins=5, color='skyblue', edgecolor='black', alpha=0.7)\n",
        "\n",
        "            # Add labels and title\n",
        "            plt.xlabel(column.capitalize())\n",
        "            plt.ylabel('Frequency')\n",
        "            plt.title(f'Histogram of {column.capitalize()}')\n",
        "\n",
        "            # Show the plot\n",
        "            plt.show()\n",
        "\n",
        "# Call the function to plot histograms for all numerical columns\n",
        "plot_histograms(wellbeing)"
      ],
      "metadata": {
        "id": "BrIhTxb0c43J"
      },
      "execution_count": null,
      "outputs": []
    },
    {
      "cell_type": "markdown",
      "source": [
        "# **Feature Engineering**"
      ],
      "metadata": {
        "id": "qnj-dI8Xd-9x"
      }
    },
    {
      "cell_type": "markdown",
      "source": [
        "Data Set: Screentime"
      ],
      "metadata": {
        "id": "OZjqfqHjCQKV"
      }
    },
    {
      "cell_type": "code",
      "source": [
        "merged_df['Total_Screen_Time_Weekdays'] = (\n",
        "    merged_df['C_wk'] +\n",
        "    merged_df['G_wk'] +\n",
        "    merged_df['S_wk'] +\n",
        "    merged_df['T_wk']\n",
        ")\n",
        "\n",
        "merged_df['Total_Screen_Time_Weekends'] = (\n",
        "    merged_df['C_we'] +\n",
        "    merged_df['G_we'] +\n",
        "    merged_df['S_we'] +\n",
        "    merged_df['T_we']\n",
        ")\n",
        "\n",
        "merged_df['Total_Screen_Time_weekly'] = merged_df['Total_Screen_Time_Weekdays'] + merged_df['Total_Screen_Time_Weekends']\n"
      ],
      "metadata": {
        "id": "Fk8wlpHQCRbY"
      },
      "execution_count": null,
      "outputs": []
    },
    {
      "cell_type": "code",
      "source": [
        "# Display summary statistics for numerical columns\n",
        "print(merged_df['Total_Screen_Time_weekly'].describe())\n",
        "print(merged_df['Total_Screen_Time_Weekdays'].describe())\n",
        "print(merged_df['Total_Screen_Time_Weekends'].describe())"
      ],
      "metadata": {
        "id": "9Pd5Hz7NpfG9"
      },
      "execution_count": null,
      "outputs": []
    },
    {
      "cell_type": "code",
      "source": [
        "screentime_feature = merged_df[['Total_Screen_Time_weekly', 'Total_Screen_Time_Weekdays', 'Total_Screen_Time_Weekends']]\n",
        "screentime_feature.head()"
      ],
      "metadata": {
        "id": "RrULftTm4nMz"
      },
      "execution_count": null,
      "outputs": []
    },
    {
      "cell_type": "markdown",
      "source": [
        "Dataset: Wellbeing"
      ],
      "metadata": {
        "id": "7SZa73b7xYfA"
      }
    },
    {
      "cell_type": "code",
      "source": [
        "merged_df['Total_Wellbeing'] = (merged_df['Optm'] +\n",
        "    merged_df['Usef'] +\n",
        "    merged_df['Relx'] +\n",
        "    merged_df['Intp'] +\n",
        "    merged_df['Engs'] +\n",
        "    merged_df['Dealpr']+\n",
        "    merged_df['Thcklr'] +\n",
        "    merged_df['Goodme'] +\n",
        "    merged_df['Clsep'] +\n",
        "    merged_df['Conf'] +\n",
        "    merged_df['Mkmind'] +\n",
        "    merged_df['Loved']+\n",
        "    merged_df['Intthg'] +\n",
        "    merged_df['Cheer'])\n",
        "\n",
        "# Compute Average Well-Being Score\n",
        "merged_df['Average_Well_Being_Score'] = merged_df['Total_Wellbeing']/14\n",
        "\n",
        "merged_df['Average_Well_Being_Score'].describe()"
      ],
      "metadata": {
        "id": "15NInPguxcb3"
      },
      "execution_count": null,
      "outputs": []
    },
    {
      "cell_type": "code",
      "source": [
        "\n",
        "# Create Well-Being Categories\n",
        "bins = [0, 2.5, 4, 5]\n",
        "labels = ['Low', 'Medium', 'High']\n",
        "merged_df['Well_Being_Category'] = pd.cut(merged_df['Average_Well_Being_Score'], bins=bins, labels=labels)\n",
        "\n"
      ],
      "metadata": {
        "id": "lrPjHkFJmeUu"
      },
      "execution_count": null,
      "outputs": []
    },
    {
      "cell_type": "code",
      "source": [
        "Wellbeing_feature = merged_df[['Well_Being_Category']]\n",
        "Wellbeing_feature.head()"
      ],
      "metadata": {
        "colab": {
          "base_uri": "https://localhost:8080/",
          "height": 158
        },
        "id": "oA3yU9iZhmwb",
        "outputId": "6fc98c3b-9a32-4917-a229-6838694aab0f"
      },
      "execution_count": null,
      "outputs": [
        {
          "output_type": "error",
          "ename": "NameError",
          "evalue": "name 'merged_df' is not defined",
          "traceback": [
            "\u001b[0;31m---------------------------------------------------------------------------\u001b[0m",
            "\u001b[0;31mNameError\u001b[0m                                 Traceback (most recent call last)",
            "\u001b[0;32m<ipython-input-5-7c29414e924a>\u001b[0m in \u001b[0;36m<cell line: 1>\u001b[0;34m()\u001b[0m\n\u001b[0;32m----> 1\u001b[0;31m \u001b[0mWellbeing_feature\u001b[0m \u001b[0;34m=\u001b[0m \u001b[0mmerged_df\u001b[0m\u001b[0;34m[\u001b[0m\u001b[0;34m[\u001b[0m\u001b[0;34m'Well_Being_Category'\u001b[0m\u001b[0;34m]\u001b[0m\u001b[0;34m]\u001b[0m\u001b[0;34m\u001b[0m\u001b[0;34m\u001b[0m\u001b[0m\n\u001b[0m\u001b[1;32m      2\u001b[0m \u001b[0mWellbeing_feature\u001b[0m\u001b[0;34m.\u001b[0m\u001b[0mhead\u001b[0m\u001b[0;34m(\u001b[0m\u001b[0;34m)\u001b[0m\u001b[0;34m\u001b[0m\u001b[0;34m\u001b[0m\u001b[0m\n",
            "\u001b[0;31mNameError\u001b[0m: name 'merged_df' is not defined"
          ]
        }
      ]
    },
    {
      "cell_type": "code",
      "source": [
        "# Numeric mapping\n",
        "numeric_mapping = {\n",
        "    \"Low\": 1,\n",
        "    \"Medium\": 2,\n",
        "    \"High\": 3,\n",
        "}\n",
        "\n",
        "# Replace ordinal codes with new numeric values\n",
        "mapped_wellbeing_feature = Wellbeing_feature.applymap(lambda x: numeric_mapping.get(x))\n",
        "\n",
        "print(mapped_wellbeing_feature)"
      ],
      "metadata": {
        "id": "zQzO_xpktLfC"
      },
      "execution_count": null,
      "outputs": []
    },
    {
      "cell_type": "markdown",
      "source": [
        "# **Inferential statistical analyses: Investigation 1**"
      ],
      "metadata": {
        "id": "AVdqK6HOoR7K"
      }
    },
    {
      "cell_type": "markdown",
      "source": [
        " ***Confidence Interval ***"
      ],
      "metadata": {
        "id": "j8B_4ONgZtCm"
      }
    },
    {
      "cell_type": "code",
      "source": [
        "import statsmodels.stats.proportion as smp"
      ],
      "metadata": {
        "id": "zc0PvLVjeSxu"
      },
      "execution_count": null,
      "outputs": []
    },
    {
      "cell_type": "markdown",
      "source": [
        "Demographic data"
      ],
      "metadata": {
        "id": "YcOXKA5waYpr"
      }
    },
    {
      "cell_type": "markdown",
      "source": [
        "Gender"
      ],
      "metadata": {
        "id": "fhZFICWCctD5"
      }
    },
    {
      "cell_type": "code",
      "source": [
        "num_females = (merged_df['gender'] == 0).sum()\n",
        "num_males = (merged_df['gender'] == 1).sum()\n",
        "total_respondants = len(merged_df)"
      ],
      "metadata": {
        "id": "1bTMt0a-oe-C"
      },
      "execution_count": null,
      "outputs": []
    },
    {
      "cell_type": "markdown",
      "source": [
        "CI for female"
      ],
      "metadata": {
        "id": "89BO75lhdbfn"
      }
    },
    {
      "cell_type": "code",
      "source": [
        "# Calculate proportion\n",
        "prop_females = num_females / total_respondants\n",
        "\n",
        "# 95% Confidence Interval for the proportion of females\n",
        "ci_females = smp.proportion_confint(num_females, total_respondants, alpha=0.05)\n",
        "\n",
        "print(f\"Proportion of females: {prop_females}\")\n",
        "print(f\"95% Confidence Interval for female proportion: {ci_females}\")"
      ],
      "metadata": {
        "id": "igKLLyM3dZlo"
      },
      "execution_count": null,
      "outputs": []
    },
    {
      "cell_type": "markdown",
      "source": [
        "CI for male"
      ],
      "metadata": {
        "id": "lFx-hkj0dgTC"
      }
    },
    {
      "cell_type": "code",
      "source": [
        "# Calculate proportion\n",
        "prop_males = num_males / total_respondants\n",
        "\n",
        "# 95% Confidence Interval for the proportion of males\n",
        "ci_males = smp.proportion_confint(num_males, total_respondants, alpha=0.05)\n",
        "\n",
        "print(f\"Proportion of males: {prop_males}\")\n",
        "print(f\"95% Confidence Interval for male proportion: {ci_males}\")"
      ],
      "metadata": {
        "id": "6baxayovdjbh"
      },
      "execution_count": null,
      "outputs": []
    },
    {
      "cell_type": "markdown",
      "source": [
        "Minority"
      ],
      "metadata": {
        "id": "Y2necAwgevNs"
      }
    },
    {
      "cell_type": "code",
      "source": [
        "num_minority = (merged_df['minority'] == 1).sum()\n",
        "num_mejority = (merged_df['minority'] == 0).sum()"
      ],
      "metadata": {
        "id": "9KkaxQDQe17U"
      },
      "execution_count": null,
      "outputs": []
    },
    {
      "cell_type": "markdown",
      "source": [
        "Minority"
      ],
      "metadata": {
        "id": "VzsElT_Pe3MB"
      }
    },
    {
      "cell_type": "code",
      "source": [
        "# Calculate proportion\n",
        "prop_minority = num_minority / total_respondants\n",
        "\n",
        "# 95% Confidence Interval for the proportion of minority\n",
        "ci_minority = smp.proportion_confint(num_minority, total_respondants, alpha=0.05)\n",
        "\n",
        "print(f\"Proportion of minority: {prop_minority}\")\n",
        "print(f\"95% Confidence Interval for minority proportion: {ci_minority}\")"
      ],
      "metadata": {
        "id": "uH91ENn1e343"
      },
      "execution_count": null,
      "outputs": []
    },
    {
      "cell_type": "markdown",
      "source": [
        "Mejority"
      ],
      "metadata": {
        "id": "iVGakufYfXVQ"
      }
    },
    {
      "cell_type": "code",
      "source": [
        "# Calculate proportion\n",
        "prop_mejority = num_mejority / total_respondants\n",
        "\n",
        "# 95% Confidence Interval for the proportion of minority\n",
        "ci_mejority = smp.proportion_confint(num_mejority, total_respondants, alpha=0.05)\n",
        "\n",
        "print(f\"Proportion of mejority: {prop_mejority}\")\n",
        "print(f\"95% Confidence Interval for mejority proportion: {ci_mejority}\")"
      ],
      "metadata": {
        "id": "j-keCPIggDWA"
      },
      "execution_count": null,
      "outputs": []
    },
    {
      "cell_type": "markdown",
      "source": [
        "Locality"
      ],
      "metadata": {
        "id": "W4i61mmpgkGF"
      }
    },
    {
      "cell_type": "code",
      "source": [
        "num_locality = (merged_df['deprived'] == 1).sum()\n",
        "num_outside_locality = (merged_df['deprived'] == 0).sum()"
      ],
      "metadata": {
        "id": "IFL7FdWDiPKN"
      },
      "execution_count": null,
      "outputs": []
    },
    {
      "cell_type": "markdown",
      "source": [
        "In locality"
      ],
      "metadata": {
        "id": "UpRucN75gmkk"
      }
    },
    {
      "cell_type": "code",
      "source": [
        "# Calculate proportion\n",
        "prop_locality = num_locality / total_respondants\n",
        "\n",
        "# 95% Confidence Interval for the proportion of in locality\n",
        "ci_locality = smp.proportion_confint(num_locality, total_respondants, alpha=0.05)\n",
        "\n",
        "print(f\"Proportion of locality: {prop_locality}\")\n",
        "print(f\"95% Confidence Interval for locality proportion: {ci_locality}\")"
      ],
      "metadata": {
        "id": "LUvyLUk0gqE0"
      },
      "execution_count": null,
      "outputs": []
    },
    {
      "cell_type": "markdown",
      "source": [
        "outside locality"
      ],
      "metadata": {
        "id": "DA3RFJQwi0vf"
      }
    },
    {
      "cell_type": "code",
      "source": [
        "# Calculate proportion\n",
        "prop_outside_locality = num_outside_locality / total_respondants\n",
        "\n",
        "# 95% Confidence Interval for the proportion of in locality\n",
        "ci_outside_locality = smp.proportion_confint(num_locality, total_respondants, alpha=0.05)\n",
        "\n",
        "print(f\"Proportion of outside locality: {prop_outside_locality}\")\n",
        "print(f\"95% Confidence Interval for locality proportion: {ci_outside_locality}\")"
      ],
      "metadata": {
        "id": "-yxoBFP8iz2c"
      },
      "execution_count": null,
      "outputs": []
    },
    {
      "cell_type": "markdown",
      "source": [
        "**Screentime**"
      ],
      "metadata": {
        "id": "IWwLQTsrgqjO"
      }
    },
    {
      "cell_type": "markdown",
      "source": [
        "Total_Screen_Time_weekly"
      ],
      "metadata": {
        "id": "Hi9u6EJgjW-K"
      }
    },
    {
      "cell_type": "code",
      "source": [
        "# Calculate mean and standard error\n",
        "mean_Total_Screen_Time_weekly = np.mean(merged_df['Total_Screen_Time_weekly'])\n",
        "std_err_Total_Screen_Time_weekly = stats.sem(merged_df['Total_Screen_Time_weekly'])  # Standard error of the mean\n",
        "\n",
        "# 95% Confidence Interval\n",
        "ci_Total_Screen_Time_weekly = stats.t.interval(0.95, len(merged_df['Total_Screen_Time_weekly'])-1, loc=mean_Total_Screen_Time_weekly, scale=std_err_Total_Screen_Time_weekly)\n",
        "\n",
        "print(f\"Screen Time Mean: {mean_Total_Screen_Time_weekly}\")\n",
        "print(f\"95% Confidence Interval for Screen Time: {ci_Total_Screen_Time_weekly}\")"
      ],
      "metadata": {
        "id": "GjVQ659AneUt"
      },
      "execution_count": null,
      "outputs": []
    },
    {
      "cell_type": "markdown",
      "source": [
        "Total_Screen_Time_Weekdays"
      ],
      "metadata": {
        "id": "mibuVIh1jb3_"
      }
    },
    {
      "cell_type": "code",
      "source": [
        "# Calculate mean and standard error\n",
        "mean_Total_Screen_Time_Weekdays = np.mean(merged_df['Total_Screen_Time_Weekdays'])\n",
        "std_err_Total_Screen_Time_Weekdays = stats.sem(merged_df['Total_Screen_Time_Weekdays'])  # Standard error of the mean\n",
        "\n",
        "# 95% Confidence Interval\n",
        "ci_Total_Screen_Time_Weekdays = stats.t.interval(0.95, len(merged_df['Total_Screen_Time_Weekdays'])-1, loc=mean_Total_Screen_Time_Weekdays, scale=std_err_Total_Screen_Time_Weekdays)\n",
        "\n",
        "print(f\"Screen Time Mean: {mean_Total_Screen_Time_Weekdays}\")\n",
        "print(f\"95% Confidence Interval for Screen Time: {ci_Total_Screen_Time_Weekdays}\")"
      ],
      "metadata": {
        "id": "6nkGwJTAokyo"
      },
      "execution_count": null,
      "outputs": []
    },
    {
      "cell_type": "markdown",
      "source": [
        "Total_Screen_Time_Weekends"
      ],
      "metadata": {
        "id": "yMOkPNY7jmr9"
      }
    },
    {
      "cell_type": "code",
      "source": [
        "# Calculate mean and standard error\n",
        "mean_Total_Screen_Time_Weekends = np.mean(merged_df['Total_Screen_Time_Weekends'])\n",
        "std_err_Total_Screen_Time_Weekends = stats.sem(merged_df['Total_Screen_Time_Weekends'])  # Standard error of the mean\n",
        "\n",
        "# 95% Confidence Interval\n",
        "ci_Total_Screen_Time_Weekends = stats.t.interval(0.95, len(merged_df['Total_Screen_Time_Weekends'])-1, loc=mean_Total_Screen_Time_Weekends, scale=std_err_Total_Screen_Time_Weekends)\n",
        "\n",
        "print(f\"Screen Time Mean: {mean_Total_Screen_Time_Weekends}\")\n",
        "print(f\"95% Confidence Interval for Screen Time: {ci_Total_Screen_Time_Weekends}\")"
      ],
      "metadata": {
        "colab": {
          "base_uri": "https://localhost:8080/",
          "height": 211
        },
        "id": "w1q55HSvor0i",
        "outputId": "e890c2f3-c087-4df0-efdf-6dabd1fcad63"
      },
      "execution_count": null,
      "outputs": [
        {
          "output_type": "error",
          "ename": "NameError",
          "evalue": "name 'np' is not defined",
          "traceback": [
            "\u001b[0;31m---------------------------------------------------------------------------\u001b[0m",
            "\u001b[0;31mNameError\u001b[0m                                 Traceback (most recent call last)",
            "\u001b[0;32m<ipython-input-6-558cee8fcf2d>\u001b[0m in \u001b[0;36m<cell line: 2>\u001b[0;34m()\u001b[0m\n\u001b[1;32m      1\u001b[0m \u001b[0;31m# Calculate mean and standard error\u001b[0m\u001b[0;34m\u001b[0m\u001b[0;34m\u001b[0m\u001b[0m\n\u001b[0;32m----> 2\u001b[0;31m \u001b[0mmean_Total_Screen_Time_Weekends\u001b[0m \u001b[0;34m=\u001b[0m \u001b[0mnp\u001b[0m\u001b[0;34m.\u001b[0m\u001b[0mmean\u001b[0m\u001b[0;34m(\u001b[0m\u001b[0mmerged_df\u001b[0m\u001b[0;34m[\u001b[0m\u001b[0;34m'Total_Screen_Time_Weekends'\u001b[0m\u001b[0;34m]\u001b[0m\u001b[0;34m)\u001b[0m\u001b[0;34m\u001b[0m\u001b[0;34m\u001b[0m\u001b[0m\n\u001b[0m\u001b[1;32m      3\u001b[0m \u001b[0mstd_err_Total_Screen_Time_Weekends\u001b[0m \u001b[0;34m=\u001b[0m \u001b[0mstats\u001b[0m\u001b[0;34m.\u001b[0m\u001b[0msem\u001b[0m\u001b[0;34m(\u001b[0m\u001b[0mmerged_df\u001b[0m\u001b[0;34m[\u001b[0m\u001b[0;34m'Total_Screen_Time_Weekends'\u001b[0m\u001b[0;34m]\u001b[0m\u001b[0;34m)\u001b[0m  \u001b[0;31m# Standard error of the mean\u001b[0m\u001b[0;34m\u001b[0m\u001b[0;34m\u001b[0m\u001b[0m\n\u001b[1;32m      4\u001b[0m \u001b[0;34m\u001b[0m\u001b[0m\n\u001b[1;32m      5\u001b[0m \u001b[0;31m# 95% Confidence Interval\u001b[0m\u001b[0;34m\u001b[0m\u001b[0;34m\u001b[0m\u001b[0m\n",
            "\u001b[0;31mNameError\u001b[0m: name 'np' is not defined"
          ]
        }
      ]
    },
    {
      "cell_type": "markdown",
      "source": [
        "# **Wellbeing**"
      ],
      "metadata": {
        "id": "rjRI76vJpsqS"
      }
    },
    {
      "cell_type": "markdown",
      "source": [
        "Wellbeing"
      ],
      "metadata": {
        "id": "v135ytgrvdxi"
      }
    },
    {
      "cell_type": "code",
      "source": [
        "# Calculate median\n",
        "median_well_being = np.median(mapped_wellbeing_feature[['Well_Being_Category']])\n",
        "\n",
        "# Calculate the percentile-based confidence interval (using bootstrapping)\n",
        "ci_well_being = np.percentile(mapped_wellbeing_feature[['Well_Being_Category']], [2.5, 97.5])\n",
        "\n",
        "print(f\"Well-Being Median: {median_well_being}\")\n",
        "print(f\"95% Percentile-Based Confidence Interval for Well-Being: {ci_well_being}\")"
      ],
      "metadata": {
        "id": "dEhOXkaTpd1D"
      },
      "execution_count": null,
      "outputs": []
    },
    {
      "cell_type": "markdown",
      "source": [
        "Inferential Statistical Analysis: Investigation 2"
      ],
      "metadata": {
        "id": "dmjwmfeF10j8"
      }
    },
    {
      "cell_type": "markdown",
      "source": [
        "# **Ordinal Logistic** **Regression**"
      ],
      "metadata": {
        "id": "2R4641Fj9jRG"
      }
    },
    {
      "cell_type": "code",
      "source": [
        "# Assuming screentime_feature and demographic are pandas DataFrames\n",
        "X = pd.concat([screentime_feature, demographic], axis=1) # Concatenate the DataFrames\n"
      ],
      "metadata": {
        "id": "lIxHSP7j4825"
      },
      "execution_count": null,
      "outputs": []
    },
    {
      "cell_type": "markdown",
      "source": [
        "Welbeing"
      ],
      "metadata": {
        "id": "e1uan8__3c4c"
      }
    },
    {
      "cell_type": "markdown",
      "source": [
        "Wellbeing and screentime"
      ],
      "metadata": {
        "id": "pZbNVVpX-xY8"
      }
    },
    {
      "cell_type": "code",
      "source": [
        "import statsmodels.api as sm\n",
        "from statsmodels.miscmodels.ordinal_model import OrderedModel\n",
        "import pandas as pd # Import pandas\n",
        "\n",
        "\n",
        "# Fit the ordinal logistic regression model\n",
        "model = OrderedModel(mapped_wellbeing_feature , screentime_feature , distr='logit')\n",
        "result = model.fit()\n",
        "\n",
        "# Print the summary\n",
        "print(result.summary())"
      ],
      "metadata": {
        "id": "PlnBZrJJ2DHD"
      },
      "execution_count": null,
      "outputs": []
    },
    {
      "cell_type": "code",
      "source": [
        "import statsmodels.api as sm\n",
        "from statsmodels.miscmodels.ordinal_model import OrderedModel\n",
        "import pandas as pd\n",
        "import numpy as np\n",
        "import seaborn as sns\n",
        "import matplotlib.pyplot as plt\n",
        "from sklearn.linear_model import LogisticRegression\n",
        "\n",
        "# Dichotomize the ordinal variable (example: 1 = low, 3 = high)\n",
        "merged_df['wellbeing_binary'] = mapped_wellbeing_feature.map(lambda x: 1 if x == 3 else 0)  # Dichotomize: 3=high (1), 1/2=low/medium (0)\n",
        "\n",
        "log_reg = LogisticRegression()\n",
        "log_reg.fit(screentime_feature, merged_df['wellbeing_binary'])\n",
        "\n",
        "# Step 3: Predict probabilities for one variable (screen_time1) for visualization\n",
        "X_range = np.linspace(screentime_feature['Total_Screen_Time_weekly'].min(), screentime_feature['Total_Screen_Time_weekly'].max(), 300).reshape(-1, 1)\n",
        "median_weekdays = np.full((300, 2), [np.median(screentime_feature['Total_Screen_Time_Weekdays']),\n",
        "                                     np.median(screentime_feature['Total_Screen_Time_Weekends'])])\n",
        "\n",
        "y_prob = log_reg.predict_proba(np.concatenate((X_range, median_weekdays), axis=1))[:, 1]\n",
        "\n",
        "# Step 4: Plot the logistic regression curve for Total_Screen_Time_weekly\n",
        "plt.figure(figsize=(8, 6))\n",
        "plt.scatter(screentime_feature['Total_Screen_Time_weekly'], merged_df['wellbeing_binary'], alpha=0.1, label='Data points', color='blue')\n",
        "plt.plot(X_range, y_prob, color='red', label='Logistic Regression Curve')\n",
        "plt.xlabel('Total_Screen_Time_weekly')\n",
        "plt.ylabel('Probability of High Well-being (Binary)')\n",
        "plt.title('Logistic Regression for Screen Time and Well-being (Binary Outcome)')\n",
        "plt.legend()\n",
        "plt.show()"
      ],
      "metadata": {
        "id": "ldt3_jst--xh"
      },
      "execution_count": null,
      "outputs": []
    },
    {
      "cell_type": "code",
      "source": [
        "# Step 4: Plot the logistic regression curve for Total_Screen_Time_Weekdays\n",
        "plt.figure(figsize=(8, 6))\n",
        "plt.scatter(screentime_feature['Total_Screen_Time_Weekdays'], merged_df['wellbeing_binary'], alpha=0.1, label='Data points', color='blue')\n",
        "plt.plot(X_range, y_prob, color='red', label='Logistic Regression Curve')\n",
        "plt.xlabel('Total_Screen_Time_Weekdays')\n",
        "plt.ylabel('Probability of High Well-being (Binary)')\n",
        "plt.title('Logistic Regression for Screen Time and Well-being (Binary Outcome)')\n",
        "plt.legend()\n",
        "plt.show()"
      ],
      "metadata": {
        "id": "PwTNIqftFrIA"
      },
      "execution_count": null,
      "outputs": []
    },
    {
      "cell_type": "code",
      "source": [
        "# Step 4: Plot the logistic regression curve for screen_time1\n",
        "plt.figure(figsize=(8, 6))\n",
        "plt.scatter(screentime_feature['Total_Screen_Time_Weekends'], merged_df['wellbeing_binary'], alpha=0.1, label='Data points', color='blue')\n",
        "plt.plot(X_range, y_prob, color='red', label='Logistic Regression Curve')\n",
        "plt.xlabel('Total_Screen_Time_Weekends')\n",
        "plt.ylabel('Probability of High Well-being (Binary)')\n",
        "plt.title('Logistic Regression for Screen Time and Well-being (Binary Outcome)')\n",
        "plt.legend()\n",
        "plt.show()"
      ],
      "metadata": {
        "id": "tH0txLFkFr30"
      },
      "execution_count": null,
      "outputs": []
    },
    {
      "cell_type": "markdown",
      "source": [
        "Wellbeing and demography"
      ],
      "metadata": {
        "id": "of9ESWX9-4oK"
      }
    },
    {
      "cell_type": "code",
      "source": [
        "import statsmodels.api as sm\n",
        "from statsmodels.miscmodels.ordinal_model import OrderedModel\n",
        "import pandas as pd # Import pandas\n",
        "\n",
        "\n",
        "# Fit the ordinal logistic regression model\n",
        "model = OrderedModel(mapped_wellbeing_feature[['Well_Being_Category']], demographic , distr='logit')\n",
        "result = model.fit()\n",
        "\n",
        "# Print the summary\n",
        "print(result.summary())"
      ],
      "metadata": {
        "id": "CqblW2jV7qpE"
      },
      "execution_count": null,
      "outputs": []
    }
  ]
}